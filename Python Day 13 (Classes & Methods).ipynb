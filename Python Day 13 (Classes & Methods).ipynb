{
 "cells": [
  {
   "cell_type": "code",
   "execution_count": 13,
   "metadata": {},
   "outputs": [
    {
     "name": "stdout",
     "output_type": "stream",
     "text": [
      "I am a car\n",
      "used for transformation\n",
      "specific usage:family vacation\n",
      "I am a bike\n",
      "used for transformation\n",
      "specific usage:bike racing\n"
     ]
    }
   ],
   "source": [
    "class vehicle:\n",
    "    def general_usage(self):\n",
    "        print('used for transformation')\n",
    "class car(vehicle):\n",
    "    def __init__(self):\n",
    "        print('I am a car')\n",
    "        self.has_roof=True\n",
    "        self.wheels=4\n",
    "    def specific_usage(self):\n",
    "        self.general_usage()\n",
    "        print(\"specific usage:family vacation\")\n",
    "class bike(vehicle):\n",
    "    def __init__(self):\n",
    "        print('I am a bike')\n",
    "        self.has_roof=False\n",
    "        self.wheels=2\n",
    "    def specific_usage(self):\n",
    "        self.general_usage()\n",
    "        print(\"specific usage:bike racing\")\n",
    "c=car()\n",
    "c.specific_usage()\n",
    "b=bike()\n",
    "b.specific_usage()"
   ]
  },
  {
   "cell_type": "code",
   "execution_count": 7,
   "metadata": {},
   "outputs": [
    {
     "data": {
      "text/plain": [
       "True"
      ]
     },
     "execution_count": 7,
     "metadata": {},
     "output_type": "execute_result"
    }
   ],
   "source": [
    "issubclass(car,vehicle)"
   ]
  },
  {
   "cell_type": "code",
   "execution_count": 8,
   "metadata": {},
   "outputs": [
    {
     "data": {
      "text/plain": [
       "False"
      ]
     },
     "execution_count": 8,
     "metadata": {},
     "output_type": "execute_result"
    }
   ],
   "source": [
    "issubclass(car,bike)"
   ]
  },
  {
   "cell_type": "code",
   "execution_count": 9,
   "metadata": {},
   "outputs": [
    {
     "data": {
      "text/plain": [
       "True"
      ]
     },
     "execution_count": 9,
     "metadata": {},
     "output_type": "execute_result"
    }
   ],
   "source": [
    "issubclass(bike,vehicle)"
   ]
  },
  {
   "cell_type": "code",
   "execution_count": 10,
   "metadata": {},
   "outputs": [
    {
     "data": {
      "text/plain": [
       "True"
      ]
     },
     "execution_count": 10,
     "metadata": {},
     "output_type": "execute_result"
    }
   ],
   "source": [
    "isinstance(c,car)"
   ]
  },
  {
   "cell_type": "code",
   "execution_count": 2,
   "metadata": {},
   "outputs": [
    {
     "name": "stdout",
     "output_type": "stream",
     "text": [
      "gardening,programming\n",
      "cooking,fashion\n",
      "sports\n"
     ]
    }
   ],
   "source": [
    "class father():\n",
    "    def skills(self):\n",
    "        print(\"gardening,programming\")\n",
    "class mother():\n",
    "    def skills(self):\n",
    "        print(\"cooking,fashion\")\n",
    "class son(father,mother):\n",
    "    def skills(self):\n",
    "        father.skills(self)\n",
    "        mother.skills(self)\n",
    "        print(\"sports\")\n",
    "c=son()\n",
    "c.skills()"
   ]
  },
  {
   "cell_type": "code",
   "execution_count": null,
   "metadata": {},
   "outputs": [],
   "source": []
  }
 ],
 "metadata": {
  "kernelspec": {
   "display_name": "Python 3",
   "language": "python",
   "name": "python3"
  },
  "language_info": {
   "codemirror_mode": {
    "name": "ipython",
    "version": 3
   },
   "file_extension": ".py",
   "mimetype": "text/x-python",
   "name": "python",
   "nbconvert_exporter": "python",
   "pygments_lexer": "ipython3",
   "version": "3.7.0"
  }
 },
 "nbformat": 4,
 "nbformat_minor": 2
}
