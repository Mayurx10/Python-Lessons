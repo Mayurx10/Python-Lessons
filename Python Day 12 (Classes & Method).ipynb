{
 "cells": [
  {
   "cell_type": "code",
   "execution_count": 2,
   "metadata": {},
   "outputs": [
    {
     "name": "stdout",
     "output_type": "stream",
     "text": [
      "Tom\n",
      "54\n"
     ]
    }
   ],
   "source": [
    "class Human:\n",
    "    def  __init__(self,name,age):\n",
    "        self.name=name\n",
    "        self.age=age\n",
    "p1=Human('Tom',54)\n",
    "print(p1.name)\n",
    "print(p1.age)"
   ]
  },
  {
   "cell_type": "code",
   "execution_count": 7,
   "metadata": {},
   "outputs": [
    {
     "name": "stdout",
     "output_type": "stream",
     "text": [
      "Tom Cruise is an Actor\n",
      "Tom Cruise speak's English\n"
     ]
    }
   ],
   "source": [
    "class Human:\n",
    "    def __init__(self,name,oc):\n",
    "        self.name=name\n",
    "        self.occupation=oc\n",
    "    def do_work(self):    \n",
    "        if self.occupation=='Tennis player':\n",
    "            print (self.name, 'Plays Tennis')\n",
    "        elif self.occupation=='Actor':\n",
    "            print (self.name, 'is an Actor')\n",
    "    def speaks(self):\n",
    "            print (self.name, \"speak's English\")\n",
    "Tom=Human('Tom Cruise','Actor')\n",
    "Tom.do_work()\n",
    "Tom.speaks()"
   ]
  },
  {
   "cell_type": "code",
   "execution_count": 14,
   "metadata": {},
   "outputs": [],
   "source": [
    "import math\n",
    "epsilon = 0.000001\n",
    "\n",
    "class Point:\n",
    "    def __init__(self, x, y):\n",
    "        self._x = x\n",
    "        self._y = y\n",
    "    def dist_to_point(self, other):\n",
    "        'Compute the Euclidean distance between two Point objects'\n",
    "        delta_x = self._x - other._x\n",
    "        delta_y = self._y - other._y\n",
    "        return (delta_x ** 2 + delta_y ** 2) ** 0.5   "
   ]
  },
  {
   "cell_type": "code",
   "execution_count": 15,
   "metadata": {},
   "outputs": [
    {
     "ename": "SyntaxError",
     "evalue": "invalid syntax (<ipython-input-15-391c30b65dbf>, line 7)",
     "output_type": "error",
     "traceback": [
      "\u001b[1;36m  File \u001b[1;32m\"<ipython-input-15-391c30b65dbf>\"\u001b[1;36m, line \u001b[1;32m7\u001b[0m\n\u001b[1;33m    return distance=(sqrt(((point.x-p.x)**2) + ((point.y-p.y)**2) + ((point.z-p.z)**2)))\u001b[0m\n\u001b[1;37m                   ^\u001b[0m\n\u001b[1;31mSyntaxError\u001b[0m\u001b[1;31m:\u001b[0m invalid syntax\n"
     ]
    }
   ],
   "source": [
    "class distance:\n",
    "    def __init__(point,x,y,z):\n",
    "        point.x=x\n",
    "        point.y=y\n",
    "        point.z=z   \n",
    "    def dis_fxn(point,p):\n",
    "        return distance=(sqrt(((point.x-p.x)**2) + ((point.y-p.y)**2) + ((point.z-p.z)**2)))\n",
    "        \n",
    "p1=distance(4,5,6)\n",
    "p2=distance(-2,-1,4) \n",
    "dis_fxn()"
   ]
  },
  {
   "cell_type": "code",
   "execution_count": 12,
   "metadata": {},
   "outputs": [
    {
     "name": "stdout",
     "output_type": "stream",
     "text": [
      "False\n",
      "A(x: 12, y: 3)\n",
      "point : (4, 2, 9)\n"
     ]
    }
   ],
   "source": [
    "class A:\n",
    "    def __init__(self, x=5, y=4):\n",
    "        self.x = x\n",
    "        self.y = y\n",
    "\n",
    "    def __str__(self):\n",
    "        return 'A(x: {}, y: {})'.format(self.x, self.y)\n",
    "\n",
    "    def __eq__(self, other):\n",
    "        return self.x * self.y == other.x * other.y\n",
    "\n",
    "def f1():\n",
    "    a = A(12, 3)\n",
    "    b = A(3, 12)\n",
    "    if (a == b):\n",
    "        print(b != a)\n",
    "        print(a)\n",
    "\n",
    "f1()\n",
    "\n",
    "\n",
    "class Point:\n",
    "  def __init__(self, x, y, z):\n",
    "    self.x = x\n",
    "    self.y = y\n",
    "    self.z = z\n",
    "  \n",
    "  def __str__(self):\n",
    "    return 'point : ({}, {}, {})'.format(self.x, self.y, self.z)\n",
    " \n",
    "    \n",
    "p1 = Point(4, 2, 9)\n",
    "print(p1)"
   ]
  },
  {
   "cell_type": "code",
   "execution_count": null,
   "metadata": {},
   "outputs": [],
   "source": []
  }
 ],
 "metadata": {
  "kernelspec": {
   "display_name": "Python 3",
   "language": "python",
   "name": "python3"
  },
  "language_info": {
   "codemirror_mode": {
    "name": "ipython",
    "version": 3
   },
   "file_extension": ".py",
   "mimetype": "text/x-python",
   "name": "python",
   "nbconvert_exporter": "python",
   "pygments_lexer": "ipython3",
   "version": "3.7.0"
  }
 },
 "nbformat": 4,
 "nbformat_minor": 2
}
