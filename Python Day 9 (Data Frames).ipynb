{
 "cells": [
  {
   "cell_type": "code",
   "execution_count": 2,
   "metadata": {},
   "outputs": [],
   "source": [
    "# Data Frame is a 2 Diamentional Data in rows & columns\n",
    "# Syntax - \n",
    "\n",
    " pandas.DataFrame(data,index,column,dtype,copy)\n",
    "\n",
    "# data - ndarray,lists,maps,dictionary,Dataframes,Constants      *(Tuples cannot be a DataFrame because it is immutable)\n",
    "# index - raw label\n",
    "# column - column label\n",
    "# dtype - data types of table\n",
    "# copy - True or False, Default type"
   ]
  },
  {
   "cell_type": "code",
   "execution_count": 2,
   "metadata": {},
   "outputs": [
    {
     "name": "stdout",
     "output_type": "stream",
     "text": [
      "Empty DataFrame\n",
      "Columns: []\n",
      "Index: []\n"
     ]
    }
   ],
   "source": [
    "# Print an Empty DataFrame\n",
    "import pandas as pd\n",
    "df = pd.DataFrame()\n",
    "print(df)"
   ]
  },
  {
   "cell_type": "code",
   "execution_count": 3,
   "metadata": {},
   "outputs": [
    {
     "name": "stdout",
     "output_type": "stream",
     "text": [
      "   0\n",
      "0  9\n",
      "1  8\n",
      "2  7\n",
      "3  6\n"
     ]
    }
   ],
   "source": [
    "# Print a DataFrame\n",
    "x = [9,8,7,6]\n",
    "df = pd.DataFrame(x)\n",
    "print(df)"
   ]
  },
  {
   "cell_type": "code",
   "execution_count": 4,
   "metadata": {},
   "outputs": [
    {
     "name": "stdout",
     "output_type": "stream",
     "text": [
      "   0  1  2  3\n",
      "0  9  8  7  6\n",
      "1  3  4  5  6\n",
      "2  1  2  3  4\n"
     ]
    }
   ],
   "source": [
    "# Print a List within a List\n",
    "x = [[9,8,7,6],[3,4,5,6],[1,2,3,4]]\n",
    "df = pd.DataFrame(x)\n",
    "print(df)"
   ]
  },
  {
   "cell_type": "code",
   "execution_count": 5,
   "metadata": {},
   "outputs": [
    {
     "name": "stdout",
     "output_type": "stream",
     "text": [
      "    0   1\n",
      "0   C  80\n",
      "1   A  81\n",
      "2  Ch  80\n",
      "3   M  82\n"
     ]
    }
   ],
   "source": [
    "x = [['C',80],['A',81],['Ch',80],['M',82]]\n",
    "df = pd.DataFrame(x)\n",
    "print(df)"
   ]
  },
  {
   "cell_type": "code",
   "execution_count": 6,
   "metadata": {},
   "outputs": [
    {
     "name": "stdout",
     "output_type": "stream",
     "text": [
      "      Name  Score\n",
      "0  Chandan     80\n",
      "1   Ashish     81\n",
      "2  Charles     80\n",
      "3    Mayur     82\n"
     ]
    }
   ],
   "source": [
    "# Creating DataFrame using Dictionary (keys)\n",
    "x = {'Name':['Chandan','Ashish','Charles','Mayur'],'Score':[80,81,80,82]}\n",
    "df = pd.DataFrame(x)\n",
    "print(df)"
   ]
  },
  {
   "cell_type": "code",
   "execution_count": 7,
   "metadata": {},
   "outputs": [
    {
     "name": "stdout",
     "output_type": "stream",
     "text": [
      "          Name  Score\n",
      "Rank1  Chandan     80\n",
      "Rank2   Ashish     81\n",
      "Rank3  Charles     80\n",
      "Rank4    Mayur     82\n"
     ]
    }
   ],
   "source": [
    "# For changing the index \n",
    "df = pd.DataFrame(x,index=['Rank1','Rank2','Rank3','Rank4'])\n",
    "print(df)"
   ]
  },
  {
   "cell_type": "code",
   "execution_count": 8,
   "metadata": {},
   "outputs": [
    {
     "name": "stdout",
     "output_type": "stream",
     "text": [
      "      a  b   c\n",
      "Row1  1  9   2\n",
      "Row2  6  9  11\n"
     ]
    }
   ],
   "source": [
    "# Here value of 'b' is printing twice\n",
    "x = {'a':[1,6],'b':[9],'c':[2,11]}\n",
    "df = pd.DataFrame(x,index=['Row1','Row2'])\n",
    "print(df)"
   ]
  },
  {
   "cell_type": "code",
   "execution_count": 9,
   "metadata": {},
   "outputs": [
    {
     "name": "stdout",
     "output_type": "stream",
     "text": [
      "      a    b   c\n",
      "Row1  1  NaN   2\n",
      "Row2  6  9.0  11\n"
     ]
    }
   ],
   "source": [
    "# Correct way to get the output\n",
    "x = [{'a':1,'c':2},{'a':6,'b':9,'c':11}]\n",
    "df = pd.DataFrame(x,index=['Row1','Row2'])\n",
    "print(df)"
   ]
  },
  {
   "cell_type": "code",
   "execution_count": 10,
   "metadata": {},
   "outputs": [
    {
     "name": "stdout",
     "output_type": "stream",
     "text": [
      "      a    b   c\n",
      "Row1  1  NaN   2\n",
      "Row2  6  9.0  11\n"
     ]
    }
   ],
   "source": [
    "# Adding column name\n",
    "x = [{'a':1,'c':2},{'a':6,'b':9,'c':11}]\n",
    "df = pd.DataFrame(x,index=['Row1','Row2'],columns=['a','b','c'])\n",
    "print(df)"
   ]
  },
  {
   "cell_type": "code",
   "execution_count": 11,
   "metadata": {},
   "outputs": [
    {
     "name": "stdout",
     "output_type": "stream",
     "text": [
      "       x   y   z\n",
      "Row1 NaN NaN NaN\n",
      "Row2 NaN NaN NaN\n"
     ]
    }
   ],
   "source": [
    "# If we change column names this is the result\n",
    "x = [{'a':1,'c':2},{'a':6,'b':9,'c':11}]\n",
    "df = pd.DataFrame(x,index=['Row1','Row2'],columns=['x','y','z'])\n",
    "print(df)"
   ]
  },
  {
   "cell_type": "code",
   "execution_count": 12,
   "metadata": {},
   "outputs": [
    {
     "name": "stdout",
     "output_type": "stream",
     "text": [
      "      x   y    z\n",
      "Row1  1   2  NaN\n",
      "Row2  9  11  6.0\n"
     ]
    }
   ],
   "source": [
    "# \n",
    "x=[{1,2},{6,9,11}]\n",
    "df = pd.DataFrame(x,index=['Row1','Row2'],columns=['x','y','z'])\n",
    "print(df)"
   ]
  },
  {
   "cell_type": "code",
   "execution_count": 13,
   "metadata": {},
   "outputs": [
    {
     "name": "stdout",
     "output_type": "stream",
     "text": [
      "      a    b   c\n",
      "Row1  1  NaN   2\n",
      "Row2  6  9.0  11\n"
     ]
    }
   ],
   "source": [
    "# Define a list instead of a Dictionary\n",
    "import numpy as np\n",
    "x=[[1,np.NaN,2],[6,9,11]]\n",
    "df = pd.DataFrame(x,index=['Row1','Row2'],columns=['a','b','c'])\n",
    "print(df)"
   ]
  },
  {
   "cell_type": "code",
   "execution_count": 14,
   "metadata": {},
   "outputs": [
    {
     "name": "stdout",
     "output_type": "stream",
     "text": [
      "    One\n",
      "a   9.0\n",
      "b  10.0\n",
      "c  11.0\n",
      "d   NaN\n"
     ]
    }
   ],
   "source": [
    "x = [9,10,11,np.NaN]\n",
    "df = pd.DataFrame(x,index=['a','b','c','d'],columns=['One'])\n",
    "print(df)"
   ]
  },
  {
   "cell_type": "code",
   "execution_count": 15,
   "metadata": {},
   "outputs": [
    {
     "name": "stdout",
     "output_type": "stream",
     "text": [
      "    One  Two\n",
      "a   9.0    2\n",
      "b  10.0    4\n",
      "c  11.0    6\n",
      "d   NaN    8\n"
     ]
    }
   ],
   "source": [
    "# Using series to create\n",
    "d={'One':pd.Series([9,10,11],index=['a','b','c']),'Two':pd.Series([2,4,6,8],index=['a','b','c','d'])}\n",
    "df1 = pd.DataFrame(d)\n",
    "print(df1)"
   ]
  },
  {
   "cell_type": "code",
   "execution_count": 16,
   "metadata": {},
   "outputs": [
    {
     "name": "stdout",
     "output_type": "stream",
     "text": [
      "    One  Two  Three\n",
      "a   9.0    2      3\n",
      "b  10.0    4      5\n",
      "c  11.0    6      7\n",
      "d   NaN    8      9\n"
     ]
    }
   ],
   "source": [
    "# Adding a 3rd column in the DataFrame using Series\n",
    "df1['Three']=pd.Series([3,5,7,9],index=['a','b','c','d'])\n",
    "print(df1)"
   ]
  },
  {
   "cell_type": "code",
   "execution_count": 17,
   "metadata": {},
   "outputs": [
    {
     "name": "stdout",
     "output_type": "stream",
     "text": [
      "    One  Two  Three  Four\n",
      "a   9.0    2      3  12.0\n",
      "b  10.0    4      5  15.0\n",
      "c  11.0    6      7  18.0\n",
      "d   NaN    8      9   NaN\n"
     ]
    }
   ],
   "source": [
    "# Adding a 4th column by adding the values of previous columns\n",
    "df1['Four']=df1['One']+df1['Three']\n",
    "print(df1)"
   ]
  },
  {
   "cell_type": "code",
   "execution_count": 18,
   "metadata": {},
   "outputs": [
    {
     "name": "stdout",
     "output_type": "stream",
     "text": [
      "    One  Three  Four\n",
      "a   9.0      3  12.0\n",
      "b  10.0      5  15.0\n",
      "c  11.0      7  18.0\n",
      "d   NaN      9   NaN\n"
     ]
    }
   ],
   "source": [
    "# Deleting a column\n",
    "del df1['Two']\n",
    "print(df1)"
   ]
  },
  {
   "cell_type": "code",
   "execution_count": 29,
   "metadata": {},
   "outputs": [
    {
     "name": "stdout",
     "output_type": "stream",
     "text": [
      "    One  Three  Four  Two\n",
      "0   9.0      3  12.0  NaN\n",
      "1  10.0      5  15.0  NaN\n",
      "2  11.0      7  18.0  NaN\n",
      "3   NaN      9   NaN  NaN\n",
      "4   2.0      6   8.0  4.0\n"
     ]
    }
   ],
   "source": [
    "# Adding a new Row\n",
    "df2=pd.Series([2,4,6,8],index=['One','Two','Three','Four'])\n",
    "df1=df1.append(df2,ignore_index=True)\n",
    "print(df1)"
   ]
  },
  {
   "cell_type": "code",
   "execution_count": 20,
   "metadata": {},
   "outputs": [
    {
     "data": {
      "text/html": [
       "<div>\n",
       "<style scoped>\n",
       "    .dataframe tbody tr th:only-of-type {\n",
       "        vertical-align: middle;\n",
       "    }\n",
       "\n",
       "    .dataframe tbody tr th {\n",
       "        vertical-align: top;\n",
       "    }\n",
       "\n",
       "    .dataframe thead th {\n",
       "        text-align: right;\n",
       "    }\n",
       "</style>\n",
       "<table border=\"1\" class=\"dataframe\">\n",
       "  <thead>\n",
       "    <tr style=\"text-align: right;\">\n",
       "      <th></th>\n",
       "      <th>One</th>\n",
       "      <th>Three</th>\n",
       "      <th>Four</th>\n",
       "    </tr>\n",
       "  </thead>\n",
       "  <tbody>\n",
       "    <tr>\n",
       "      <th>a</th>\n",
       "      <td>9.0</td>\n",
       "      <td>3</td>\n",
       "      <td>12.0</td>\n",
       "    </tr>\n",
       "    <tr>\n",
       "      <th>b</th>\n",
       "      <td>10.0</td>\n",
       "      <td>5</td>\n",
       "      <td>15.0</td>\n",
       "    </tr>\n",
       "    <tr>\n",
       "      <th>c</th>\n",
       "      <td>11.0</td>\n",
       "      <td>7</td>\n",
       "      <td>18.0</td>\n",
       "    </tr>\n",
       "    <tr>\n",
       "      <th>d</th>\n",
       "      <td>NaN</td>\n",
       "      <td>9</td>\n",
       "      <td>NaN</td>\n",
       "    </tr>\n",
       "  </tbody>\n",
       "</table>\n",
       "</div>"
      ],
      "text/plain": [
       "    One  Three  Four\n",
       "a   9.0      3  12.0\n",
       "b  10.0      5  15.0\n",
       "c  11.0      7  18.0\n",
       "d   NaN      9   NaN"
      ]
     },
     "execution_count": 20,
     "metadata": {},
     "output_type": "execute_result"
    }
   ],
   "source": [
    "df1"
   ]
  },
  {
   "cell_type": "code",
   "execution_count": null,
   "metadata": {},
   "outputs": [],
   "source": []
  }
 ],
 "metadata": {
  "kernelspec": {
   "display_name": "Python 3",
   "language": "python",
   "name": "python3"
  },
  "language_info": {
   "codemirror_mode": {
    "name": "ipython",
    "version": 3
   },
   "file_extension": ".py",
   "mimetype": "text/x-python",
   "name": "python",
   "nbconvert_exporter": "python",
   "pygments_lexer": "ipython3",
   "version": "3.7.0"
  }
 },
 "nbformat": 4,
 "nbformat_minor": 2
}
